{
 "cells": [
  {
   "cell_type": "code",
   "execution_count": 3,
   "metadata": {},
   "outputs": [],
   "source": [
    "from statsmodels.regression.rolling import RollingOLS\n",
    "import pandas_datareader.data as web\n",
    "import matplotlib.pyplot as plt\n",
    "import statsmodels.api as sm\n",
    "import pandas as pd\n",
    "import numpy as np\n",
    "import datetime as dt\n",
    "import yfinance as yf\n",
    "import pandas_ta\n",
    "import warnings\n",
    "warnings.filterwarnings('ignore')"
   ]
  },
  {
   "cell_type": "code",
   "execution_count": 73,
   "metadata": {},
   "outputs": [],
   "source": [
    "%%capture\n",
    "sp500=pd.read_html('https://en.wikipedia.org/wiki/List_of_S%26P_500_companies')[0]\n",
    "sp500['Symbol']=sp500['Symbol'].str.replace('.','-')\n",
    "symbols_list=sp500['Symbol'].unique().tolist()\n",
    "end_date='2024-08-01'\n",
    "start_date=pd.to_datetime(end_date)-pd.DateOffset(365*8)\n",
    "df=yf.download(tickers=symbols_list,\n",
    "               start=start_date,\n",
    "               end=end_date).stack()\n",
    "print(df)\n"
   ]
  },
  {
   "cell_type": "code",
   "execution_count": 75,
   "metadata": {},
   "outputs": [],
   "source": [
    "df.index.names = ['Date', 'Ticker']"
   ]
  },
  {
   "cell_type": "code",
   "execution_count": 76,
   "metadata": {},
   "outputs": [
    {
     "data": {
      "text/plain": [
       "Index(['Adj Close', 'Close', 'High', 'Low', 'Open', 'Volume'], dtype='object', name='Price')"
      ]
     },
     "execution_count": 76,
     "metadata": {},
     "output_type": "execute_result"
    }
   ],
   "source": [
    "df.columns"
   ]
  },
  {
   "cell_type": "code",
   "execution_count": 77,
   "metadata": {},
   "outputs": [],
   "source": [
    "%%capture\n",
    "#Calculate the log returns for the stocks\n",
    "def calculate_log_returns(df,column='Adj Close'):\n",
    "    return np.log(df[column]/df[column].shift(1))\n",
    "\n",
    "# log_returns=np.log(df_1/df_1.shift(1)).dropna()\n",
    "# log_returns=log_returns.dropna()\n",
    "# log_returns\n",
    "\n",
    "#Calculate momentum based on log returns\n",
    "def calculate_momentum_log_returns(df, period=126):\n",
    "    log_retuns=np.log(df/df.shift(1))\n",
    "    return log_returns.rolling(window=period).sum().iloc[-1]"
   ]
  },
  {
   "cell_type": "code",
   "execution_count": 78,
   "metadata": {},
   "outputs": [],
   "source": [
    "%%capture\n",
    "#Calculate log returns and momentum\n",
    "df['log_returns']=calculate_log_returns(df)\n",
    "df['momentum_returns']=calculate_momentum_log_returns(df)\n",
    "print(\"Log Returns:\")\n",
    "print(log_returns.tail())"
   ]
  },
  {
   "cell_type": "code",
   "execution_count": 80,
   "metadata": {},
   "outputs": [],
   "source": [
    "#calculate the rsi\n",
    "# Function to calculate RSI\n",
    "def calculate_rsi(df, column='Adj Close', period=14):\n",
    "    # Calculate price changes\n",
    "    delta = df[column].diff()\n",
    "\n",
    "    # Calculate gains and losses\n",
    "    gain = delta.where(delta > 0, 0)\n",
    "    loss = -delta.where(delta < 0, 0)\n",
    "\n",
    "    # Calculate rolling averages\n",
    "    avg_gain = gain.rolling(window=period, min_periods=1).mean()\n",
    "    avg_loss = loss.rolling(window=period, min_periods=1).mean()\n",
    "\n",
    "    # Calculate RS and RSI\n",
    "    rs = avg_gain / avg_loss\n",
    "    rsi = 100 - (100 / (1 + rs))\n",
    "\n",
    "    return rsi\n",
    "\n",
    "# Add RSI to the DataFrame\n",
    "df['RSI'] = calculate_rsi(df)"
   ]
  },
  {
   "cell_type": "code",
   "execution_count": 82,
   "metadata": {},
   "outputs": [
    {
     "data": {
      "text/plain": [
       "Index(['A', 'AAL', 'AAPL', 'ABBV', 'ABNB'], dtype='object', name='Ticker')"
      ]
     },
     "execution_count": 82,
     "metadata": {},
     "output_type": "execute_result"
    }
   ],
   "source": [
    "momentum_results = []\n",
    "dates = []\n",
    "\n",
    "#every 6 months\n",
    "date_range=pd.date_range(start='2022-08-01',end='2024-08-01',freq='6M')\n",
    "for date in date_range:\n",
    "    if date not in df.index:\n",
    "        continue\n",
    "    end_date1=date\n",
    "    start_date1=end_date1-pd.DateOffset(days=126)\n",
    "\n",
    "    period_data=df.loc[start_date1:end_date1]\n",
    "\n",
    "    if period_data.shape[0]<126:\n",
    "        continue\n",
    "\n",
    "    momentum1=calculate_momentum_log_returns(period_data)\n",
    "    momentum_results.append(momentum1)\n",
    "    dates.append(end_date1)\n",
    "\n",
    "momentum_df = pd.DataFrame(momentum_results, index=dates)    \n",
    "\n",
    "latest_momentum = momentum_df.iloc[-1]\n",
    "ranked_momentum = latest_momentum.rank(ascending=False)\n",
    "\n",
    "# Select the top 5 stocks based on the latest momentum\n",
    "top_stocks = ranked_momentum.nsmallest(5).index\n",
    "\n",
    "top_stocks\n",
    "    "
   ]
  },
  {
   "cell_type": "code",
   "execution_count": 90,
   "metadata": {},
   "outputs": [
    {
     "name": "stdout",
     "output_type": "stream",
     "text": [
      "\n",
      "Portfolio Allocation:\n",
      "                        Ticker  Allocation\n",
      "0     (2016-08-03 00:00:00, A)         0.2\n",
      "1   (2016-08-03 00:00:00, AAL)         0.2\n",
      "2  (2016-08-03 00:00:00, AAPL)         0.2\n",
      "3  (2016-08-03 00:00:00, ABBV)         0.2\n",
      "4   (2016-08-03 00:00:00, ABT)         0.2\n"
     ]
    }
   ],
   "source": [
    "# Calculate the allocation (equal weight to each top stock)\n",
    "allocation = 1 / len(top_stocks)\n",
    "portfolio = pd.DataFrame({'Ticker': top_stocks, 'Allocation': allocation})\n",
    "\n",
    "# Print the portfolio\n",
    "print(\"\\nPortfolio Allocation:\")\n",
    "print(portfolio)"
   ]
  }
 ],
 "metadata": {
  "kernelspec": {
   "display_name": "Python 3",
   "language": "python",
   "name": "python3"
  },
  "language_info": {
   "codemirror_mode": {
    "name": "ipython",
    "version": 3
   },
   "file_extension": ".py",
   "mimetype": "text/x-python",
   "name": "python",
   "nbconvert_exporter": "python",
   "pygments_lexer": "ipython3",
   "version": "3.11.9"
  }
 },
 "nbformat": 4,
 "nbformat_minor": 2
}
